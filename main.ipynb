{
 "cells": [
  {
   "cell_type": "code",
   "execution_count": 19,
   "metadata": {},
   "outputs": [],
   "source": [
    "# Import modules\n",
    "import pandas as pd\n",
    "import numpy as np\n",
    "import matplotlib.pyplot as plt\n",
    "import seaborn as sns\n",
    "\n",
    "from scratchai.preproccessing import one_hot, split_data, StandardScaler\n",
    "from scratchai.linear_models import LinearRegression\n",
    "from scratchai.cart import DecisionTreeRegressor\n",
    "from scratchai.plotting import plot_generalization_curve\n",
    "from scratchai.metrics import mean_squared_error, mean_absolute_error"
   ]
  },
  {
   "cell_type": "code",
   "execution_count": null,
   "metadata": {},
   "outputs": [],
   "source": [
    "# Load the data\n",
    "weather_data_raw = pd.read_csv(\"data\\weatherHistory.csv\")\n",
    "weather_data_raw.head()"
   ]
  },
  {
   "cell_type": "code",
   "execution_count": null,
   "metadata": {},
   "outputs": [],
   "source": [
    "# rename the dataframe columns\n",
    "columns = ['Date', 'Sum', 'Precip', 'Temp', \n",
    "'Apparent_Temp', 'Humidity', 'Wind_Speed', 'Wind_Bearing', 'Visibility', 'Cloud_Cover', 'Pressure', 'Daily_Sum']\n",
    "\n",
    "weather_data_raw.columns = columns\n",
    "weather_data_raw.head()"
   ]
  },
  {
   "cell_type": "code",
   "execution_count": null,
   "metadata": {},
   "outputs": [],
   "source": [
    "# drop some useless columns\n",
    "columns = ['Precip', 'Temp', 'Apparent_Temp', 'Humidity', 'Wind_Speed', 'Visibility', 'Pressure']\n",
    "weather_data = weather_data_raw[columns]\n",
    "weather_data.head()"
   ]
  },
  {
   "cell_type": "code",
   "execution_count": null,
   "metadata": {},
   "outputs": [],
   "source": [
    "# Clean the data\n",
    "missing_vals = weather_data.isna().sum()\n",
    "duplc_rows = weather_data.duplicated().sum()\n",
    "\n",
    "print(f\"Number of missing values: \\n{missing_vals}\")\n",
    "print(f\"Number of duplicate rows: {duplc_rows}\")"
   ]
  },
  {
   "cell_type": "code",
   "execution_count": 5,
   "metadata": {},
   "outputs": [],
   "source": [
    "weather_data = weather_data.dropna().drop_duplicates()"
   ]
  },
  {
   "cell_type": "code",
   "execution_count": null,
   "metadata": {},
   "outputs": [],
   "source": [
    "# Basic visualisations\n",
    "weather_data.corr(numeric_only = True)"
   ]
  },
  {
   "cell_type": "code",
   "execution_count": null,
   "metadata": {},
   "outputs": [],
   "source": [
    "weather_data.describe()"
   ]
  },
  {
   "cell_type": "code",
   "execution_count": null,
   "metadata": {},
   "outputs": [],
   "source": [
    "# Plot some graphs\n",
    "for column in ['Temp', 'Apparent_Temp', 'Humidity', 'Wind_Speed', 'Visibility', 'Pressure']:\n",
    "    plt.hist(weather_data[column])\n",
    "    plt.xlabel(column)\n",
    "    plt.ylabel('Frequency')\n",
    "    plt.show()"
   ]
  },
  {
   "cell_type": "code",
   "execution_count": null,
   "metadata": {},
   "outputs": [],
   "source": [
    "uniques, counts = np.unique(weather_data['Precip'].values, return_counts = True)\n",
    "for val, count in zip(uniques, counts):\n",
    "    print(f\"{val}: {count}\")"
   ]
  },
  {
   "cell_type": "code",
   "execution_count": null,
   "metadata": {},
   "outputs": [],
   "source": [
    "data = weather_data.iloc[0: 5000]\n",
    "sns.pairplot(data, hue = 'Precip', corner = True)\n",
    "plt.show()"
   ]
  },
  {
   "cell_type": "code",
   "execution_count": 8,
   "metadata": {},
   "outputs": [],
   "source": [
    "# handle outliers in th data\n",
    "weather_data.loc[:, 'Temp'] = weather_data['Temp'].clip(lower = -10, upper = 40)\n",
    "weather_data.loc[:, 'Humidity'] = weather_data['Humidity'].clip(lower = 0.2, upper = 1)\n",
    "weather_data.loc[:, 'Wind_Speed'] = weather_data['Wind_Speed'].clip(lower = 0, upper = 35)\n",
    "\n",
    "weather_data = weather_data.loc[weather_data['Pressure'] >= 900 ,:]\n",
    "weather_data.loc[:, 'Pressure'] = weather_data['Pressure'].clip(lower = 990,upper = 1050)"
   ]
  },
  {
   "cell_type": "code",
   "execution_count": null,
   "metadata": {},
   "outputs": [],
   "source": [
    "input_features = ['Humidity', 'Wind_Speed', 'Visibility', 'Pressure', 'Precip']\n",
    "label = 'Temp'\n",
    "\n",
    "processed_data = weather_data[input_features + [label]]\n",
    "processed_data.head()"
   ]
  },
  {
   "cell_type": "code",
   "execution_count": null,
   "metadata": {},
   "outputs": [],
   "source": [
    "# ont hot the Precip\n",
    "\n",
    "processed_data = one_hot(processed_data, columns = ['Precip'])\n",
    "processed_data.head()"
   ]
  },
  {
   "cell_type": "code",
   "execution_count": null,
   "metadata": {},
   "outputs": [],
   "source": [
    "# scale the data\n",
    "scaler = StandardScaler()\n",
    "processed_data = scaler.transform(processed_data, columns = input_features[:-1])\n",
    "processed_data.head()"
   ]
  },
  {
   "cell_type": "code",
   "execution_count": 12,
   "metadata": {},
   "outputs": [],
   "source": [
    "# split the data\n",
    "train_data, test_data = split_data(processed_data, 0.7)\n",
    "linear_reg_test, valid_data = split_data(test_data, 0.5)\n",
    "\n",
    "X_train, y_train = train_data.drop(label, axis = 1).values, train_data[label].values\n",
    "X_valid, y_valid = valid_data.drop(label, axis = 1).values, valid_data[label].values"
   ]
  },
  {
   "cell_type": "code",
   "execution_count": 13,
   "metadata": {},
   "outputs": [],
   "source": [
    "# build and train a linear regression model\n",
    "linear_regressor = LinearRegression()\n",
    "linear_regressor.fit(X_train, y_train, 0.0001, 50, 32, 1, X_valid, y_valid)"
   ]
  },
  {
   "cell_type": "code",
   "execution_count": null,
   "metadata": {},
   "outputs": [],
   "source": [
    "# plot the regularization curve to make sure the model didn't overfit the data\n",
    "plot_generalization_curve(linear_regressor.training_lossses, linear_regressor.validation_losses, linear_regressor.training_epochs)"
   ]
  },
  {
   "cell_type": "code",
   "execution_count": null,
   "metadata": {},
   "outputs": [],
   "source": [
    "# evaluate the linear regression model\n",
    "def rmse(y_true, y_pred):\n",
    "    return np.sqrt(mean_squared_error(y_true, y_pred))\n",
    "\n",
    "def evaluate_model(y_pred, y_true, model_name = \"\"):\n",
    "    for metric, func in [('Root mean squared error', rmse), ('Mean absolute error', mean_absolute_error)]:\n",
    "        print(f\"{model_name} {metric}: {func(y_true, y_pred):.2f}\")\n",
    "        \n",
    "y_pred = linear_regressor.predict(X_valid)\n",
    "evaluate_model(y_pred, y_valid, 'Linear Regression')"
   ]
  },
  {
   "cell_type": "code",
   "execution_count": 16,
   "metadata": {},
   "outputs": [],
   "source": [
    "# prepare data for the decision tree\n",
    "tree_data = weather_data[input_features + [label]]\n",
    "\n",
    "# split the tree data\n",
    "train_data, test_data = split_data(tree_data, 0.6)\n",
    "tree_test, valid_data = split_data(test_data, 0.5)\n",
    "\n",
    "X_train, y_train = train_data[input_features].values, train_data[label].values\n",
    "X_valid, y_valid = valid_data[input_features].values, valid_data[label].values"
   ]
  },
  {
   "cell_type": "code",
   "execution_count": null,
   "metadata": {},
   "outputs": [],
   "source": [
    "# build and train the decision tree\n",
    "model = DecisionTreeRegressor(min_samples_split = 500, max_depth = 25)\n",
    "model.fit(X_train, y_train)"
   ]
  },
  {
   "cell_type": "code",
   "execution_count": null,
   "metadata": {},
   "outputs": [],
   "source": [
    "# evaluate the decision tree\n",
    "y_pred = model.predict(X_valid)\n",
    "evaluate_model(y_pred, y_valid, 'Decision Tree')"
   ]
  },
  {
   "cell_type": "code",
   "execution_count": null,
   "metadata": {},
   "outputs": [],
   "source": [
    "# evaluate both models on the test data\n",
    "X_test, y_test = linear_reg_test.drop(label, axis = 1).values, linear_reg_test[label].values\n",
    "y_pred = linear_regressor.predict(X_test)\n",
    "\n",
    "evaluate_model(y_pred, y_test, 'Linear Regression')\n",
    "\n",
    "X_test, y_test = tree_test[input_features].values, tree_test[label].values\n",
    "y_pred = model.predict(X_test)\n",
    "evaluate_model(y_pred, y_test, 'Decision Tree')"
   ]
  }
 ],
 "metadata": {
  "kernelspec": {
   "display_name": "env",
   "language": "python",
   "name": "python3"
  },
  "language_info": {
   "codemirror_mode": {
    "name": "ipython",
    "version": 3
   },
   "file_extension": ".py",
   "mimetype": "text/x-python",
   "name": "python",
   "nbconvert_exporter": "python",
   "pygments_lexer": "ipython3",
   "version": "3.12.5"
  }
 },
 "nbformat": 4,
 "nbformat_minor": 2
}
